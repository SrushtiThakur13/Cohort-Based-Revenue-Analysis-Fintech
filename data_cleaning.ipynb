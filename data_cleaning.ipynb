{
 "cells": [
  {
   "cell_type": "code",
   "execution_count": 1,
   "id": "810abb0e-2115-4f6b-ac42-63bca333d100",
   "metadata": {},
   "outputs": [],
   "source": [
    "# Loading Libraries and Data\n",
    "import pandas as pd\n",
    "\n",
    "# Load CSVs\n",
    "users = pd.read_csv(\"/Users/srushtithakur/Downloads/users.csv\", parse_dates=[\"signup_date\"])\n",
    "transactions = pd.read_csv(\"/Users/srushtithakur/Downloads/transactions.csv\", parse_dates=[\"transaction_date\"])\n",
    "logins = pd.read_csv(\"/Users/srushtithakur/Downloads/logins.csv\", parse_dates=[\"login_date\"])\n",
    "features = pd.read_csv(\"/Users/srushtithakur/Downloads/feature_usage.csv\", parse_dates=[\"usage_date\"])\n",
    "tickets = pd.read_csv(\"/Users/srushtithakur/Downloads/support_tickets.csv\", parse_dates=[\"date\"])\n"
   ]
  },
  {
   "cell_type": "code",
   "execution_count": 3,
   "id": "98173cfb-cbea-4b29-a2d7-723e0046be9c",
   "metadata": {},
   "outputs": [
    {
     "name": "stdout",
     "output_type": "stream",
     "text": [
      " Users\n",
      "- Missing values:\n",
      " user_id         0\n",
      "signup_date     0\n",
      "age             0\n",
      "gender          0\n",
      "region          0\n",
      "user_segment    0\n",
      "dtype: int64\n",
      "- Duplicate rows: 0 \n",
      "\n",
      " Transactions\n",
      "- Missing values:\n",
      " transaction_id      0\n",
      "user_id             0\n",
      "transaction_date    0\n",
      "amount              0\n",
      "dtype: int64\n",
      "- Duplicate rows: 0 \n",
      "\n",
      " Logins\n",
      "- Missing values:\n",
      " user_id       0\n",
      "login_date    0\n",
      "dtype: int64\n",
      "- Duplicate rows: 460 \n",
      "\n",
      " Feature Usage\n",
      "- Missing values:\n",
      " user_id         0\n",
      "feature_name    0\n",
      "usage_date      0\n",
      "dtype: int64\n",
      "- Duplicate rows: 0 \n",
      "\n",
      " Support Tickets\n",
      "- Missing values:\n",
      " ticket_id               0\n",
      "user_id                 0\n",
      "issue_type              0\n",
      "date                    0\n",
      "resolution_time_days    0\n",
      "dtype: int64\n",
      "- Duplicate rows: 0 \n",
      "\n"
     ]
    }
   ],
   "source": [
    "# Checking for Missing Values and Duplicates\n",
    "\n",
    "def report(df, name):\n",
    "    print(f\" {name}\")\n",
    "    print(\"- Missing values:\\n\", df.isnull().sum())\n",
    "    print(\"- Duplicate rows:\", df.duplicated().sum(), \"\\n\")\n",
    "\n",
    "report(users, \"Users\")\n",
    "report(transactions, \"Transactions\")\n",
    "report(logins, \"Logins\")\n",
    "report(features, \"Feature Usage\")\n",
    "report(tickets, \"Support Tickets\")"
   ]
  },
  {
   "cell_type": "code",
   "execution_count": 7,
   "id": "27178843-6c42-4d1c-a89a-7fcb97e1d1f9",
   "metadata": {},
   "outputs": [
    {
     "name": "stdout",
     "output_type": "stream",
     "text": [
      " Cleaned logins: 460 duplicates removed.\n"
     ]
    }
   ],
   "source": [
    "# Dropping Duplicates in Logins\n",
    "\n",
    "logins_clean = logins.drop_duplicates()\n",
    "print(f\" Cleaned logins: {logins.shape[0] - logins_clean.shape[0]} duplicates removed.\")\n"
   ]
  },
  {
   "cell_type": "code",
   "execution_count": 11,
   "id": "bd563e82-8238-4ead-a31b-3655cb4f566d",
   "metadata": {},
   "outputs": [],
   "source": [
    "# Standardize Column Names\n",
    "\n",
    "def clean_column_names(df):\n",
    "    df.columns = df.columns.str.lower().str.strip().str.replace(\" \", \"_\")\n",
    "    return df\n",
    "\n",
    "users = clean_column_names(users)\n",
    "transactions = clean_column_names(transactions)\n",
    "logins_clean = clean_column_names(logins_clean)\n",
    "features = clean_column_names(features)\n",
    "tickets = clean_column_names(tickets)\n"
   ]
  },
  {
   "cell_type": "code",
   "execution_count": 13,
   "id": "65ea8dca-4dc7-44fd-b145-3de5ebb642d6",
   "metadata": {},
   "outputs": [],
   "source": [
    "# Saving the Cleaned Files\n",
    "users.to_csv(\"/Users/srushtithakur/Downloads/users_cleaned.csv\", index=False)\n",
    "transactions.to_csv(\"/Users/srushtithakur/Downloads/transactions_cleaned.csv\", index=False)\n",
    "logins_clean.to_csv(\"/Users/srushtithakur/Downloads/logins_cleaned.csv\", index=False)\n",
    "features.to_csv(\"/Users/srushtithakur/Downloads/feature_usage_cleaned.csv\", index=False)\n",
    "tickets.to_csv(\"/Users/srushtithakur/Downloads/support_tickets_cleaned.csv\", index=False)\n"
   ]
  },
  {
   "cell_type": "code",
   "execution_count": null,
   "id": "04399a1e-1585-43ca-88b7-40b9bc2adf6e",
   "metadata": {},
   "outputs": [],
   "source": []
  }
 ],
 "metadata": {
  "kernelspec": {
   "display_name": "Python [conda env:base] *",
   "language": "python",
   "name": "conda-base-py"
  },
  "language_info": {
   "codemirror_mode": {
    "name": "ipython",
    "version": 3
   },
   "file_extension": ".py",
   "mimetype": "text/x-python",
   "name": "python",
   "nbconvert_exporter": "python",
   "pygments_lexer": "ipython3",
   "version": "3.12.7"
  }
 },
 "nbformat": 4,
 "nbformat_minor": 5
}
